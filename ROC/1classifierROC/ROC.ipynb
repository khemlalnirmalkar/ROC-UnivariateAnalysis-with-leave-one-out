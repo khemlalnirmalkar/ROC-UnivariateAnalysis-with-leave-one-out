{
 "cells": [
  {
   "cell_type": "markdown",
   "metadata": {},
   "source": [
    "Import modules/packages for leave one out cross validation (LOOCV)."
   ]
  },
  {
   "cell_type": "code",
   "execution_count": 441,
   "metadata": {},
   "outputs": [],
   "source": [
    "import os\n",
    "import numpy as np\n",
    "import pandas as pd\n",
    "from sklearn import metrics\n",
    "import matplotlib.pyplot as plt\n",
    "from sklearn.linear_model import LogisticRegression"
   ]
  },
  {
   "cell_type": "markdown",
   "metadata": {},
   "source": [
    "Make output directory"
   ]
  },
  {
   "cell_type": "code",
   "execution_count": 442,
   "metadata": {},
   "outputs": [],
   "source": [
    "cwd = os.getcwd()\n",
    "path = cwd + \"\\output\"\n",
    "if not os.path.exists(path):\n",
    "    os.mkdir(path)"
   ]
  },
  {
   "cell_type": "markdown",
   "metadata": {},
   "source": [
    "Load data and assign response (y) and predictor (X) variables. "
   ]
  },
  {
   "cell_type": "code",
   "execution_count": 443,
   "metadata": {},
   "outputs": [],
   "source": [
    "#change file name (down20GSE26400singleROC.txt) as needed\n",
    "#file should contain ranking scores (e.g., T-score, NES, etc.) for items\n",
    "#file must have column headers (1 for experimental and 0 for control samples) in row 1 and row headers in column A\n",
    "df = pd.read_csv('GSE49996singlegenedataneg.txt', delimiter = \"\\t\", low_memory=False, header=None)\n",
    "\n",
    "tempy = list(df.iloc[0])\n",
    "tempy.pop(0)\n",
    "y = np.array(tempy)\n",
    "y = list(y)\n",
    "\n",
    "df = df.reindex(df.index.drop(0)).reset_index(drop=True)\n",
    "labels = np.array(df[0].values.tolist())\n",
    "df = df.iloc[: , 1:]\n",
    "X = np.array(df.values.tolist())"
   ]
  },
  {
   "cell_type": "code",
   "execution_count": 444,
   "metadata": {},
   "outputs": [
    {
     "name": "stdout",
     "output_type": "stream",
     "text": [
      "Accuracy: 0.7386363636363636\n",
      "AUC: 0.8243801652892563\n",
      "Confusion matrix:\n",
      "[[36  8]\n",
      " [15 29]]\n",
      "Classification report:\n",
      "              precision    recall  f1-score   support\n",
      "\n",
      "         0.0       0.71      0.82      0.76        44\n",
      "         1.0       0.78      0.66      0.72        44\n",
      "\n",
      "    accuracy                           0.74        88\n",
      "   macro avg       0.74      0.74      0.74        88\n",
      "weighted avg       0.74      0.74      0.74        88\n",
      "\n",
      "\n"
     ]
    }
   ],
   "source": [
    "Xsub = X[0]\n",
    "Xsub = Xsub.reshape(-1, 1)\n",
    "model = LogisticRegression().fit(Xsub, y)\n",
    "fpr, tpr, _ = metrics.roc_curve(y, model.predict_proba(Xsub)[:,1])\n",
    "roc_auc = metrics.roc_auc_score(y, model.predict_proba(Xsub)[:,1])\n",
    "    \n",
    "print(\"Accuracy:\", metrics.accuracy_score(y, model.predict(Xsub)))\n",
    "print(\"AUC:\", roc_auc)\n",
    "print(\"Confusion matrix:\")\n",
    "print(metrics.confusion_matrix(y, model.predict(Xsub)))\n",
    "print(\"Classification report:\")\n",
    "print(metrics.classification_report(y, model.predict(Xsub)))\n",
    "print()"
   ]
  },
  {
   "cell_type": "markdown",
   "metadata": {},
   "source": [
    "Time to visualize the results generated above"
   ]
  },
  {
   "cell_type": "code",
   "execution_count": 445,
   "metadata": {},
   "outputs": [
    {
     "data": {
      "image/png": "[encoded data removed]",
      "text/plain": [
       "<Figure size 432x288 with 1 Axes>"
      ]
     },
     "metadata": {
      "needs_background": "light"
     },
     "output_type": "display_data"
    }
   ],
   "source": [
    "plt.figure()\n",
    "plt.plot(fpr, tpr, label = \"ROC curve (area = %0.2f)\" % roc_auc)\n",
    "plt.plot([0, 1], [0, 1], 'k--')\n",
    "plt.xlim([0.0, 1.0])\n",
    "plt.ylim([0.0, 1.05])\n",
    "plt.title(\"ROC curve\")\n",
    "plt.xlabel(\"False positive rate\")\n",
    "plt.ylabel(\"True positive rate\")\n",
    "plt.legend(loc='best')\n",
    "plt.show()"
   ]
  }
 ],
 "metadata": {
  "kernelspec": {
   "display_name": "Python 3 (ipykernel)",
   "language": "python",
   "name": "python3"
  },
  "language_info": {
   "codemirror_mode": {
    "name": "ipython",
    "version": 3
   },
   "file_extension": ".py",
   "mimetype": "text/x-python",
   "name": "python",
   "nbconvert_exporter": "python",
   "pygments_lexer": "ipython3",
   "version": "3.9.7"
  }
 },
 "nbformat": 4,
 "nbformat_minor": 4
}
