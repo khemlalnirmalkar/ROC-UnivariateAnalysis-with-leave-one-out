{
 "cells": [
  {
   "cell_type": "markdown",
   "metadata": {},
   "source": [
    "Import modules/packages for leave one out cross validation (LOOCV)."
   ]
  },
  {
   "cell_type": "code",
   "execution_count": 55,
   "metadata": {},
   "outputs": [],
   "source": [
    "import os\n",
    "import numpy as np\n",
    "import pandas as pd\n",
    "import pickle\n",
    "from sklearn import metrics\n",
    "import matplotlib.pyplot as plt\n",
    "from sklearn.linear_model import LogisticRegression"
   ]
  },
  {
   "cell_type": "markdown",
   "metadata": {},
   "source": [
    "Make output directory"
   ]
  },
  {
   "cell_type": "code",
   "execution_count": 56,
   "metadata": {},
   "outputs": [],
   "source": [
    "cwd = os.getcwd()\n",
    "path = cwd + \"\\output\"\n",
    "if not os.path.exists(path):\n",
    "    os.mkdir(path)"
   ]
  },
  {
   "cell_type": "markdown",
   "metadata": {},
   "source": [
    "Load data and assign response (y) and predictor (X) variables. "
   ]
  },
  {
   "cell_type": "code",
   "execution_count": 57,
   "metadata": {},
   "outputs": [],
   "source": [
    "#change file name (GSE49996genedataneg.txt) as needed\n",
    "#file should contain ranking scores (e.g., T-score, NES, etc.) for items\n",
    "#file must have column headers (1 for experimental and 0 for control samples) in row 1 and row headers in column A\n",
    "df = pd.read_csv('GSE49996genedataneg.txt', delimiter = \"\\t\", low_memory=False, header=None)\n",
    "\n",
    "tempy = list(df.iloc[0])\n",
    "tempy.pop(0)\n",
    "y = np.array(tempy)\n",
    "y = list(y)\n",
    "\n",
    "df = df.reindex(df.index.drop(0)).reset_index(drop=True)\n",
    "labels = np.array(df[0].values.tolist())\n",
    "df = df.iloc[: , 1:]\n",
    "X = np.array(df.values.tolist())"
   ]
  },
  {
   "cell_type": "code",
   "execution_count": 58,
   "metadata": {
    "scrolled": true
   },
   "outputs": [
    {
     "name": "stdout",
     "output_type": "stream",
     "text": [
      "Sample 1\n",
      "Accuracy: 0.5113636363636364\n",
      "AUC: 0.5113636363636364\n",
      "Confusion matrix:\n",
      "[[44  0]\n",
      " [43  1]]\n",
      "Classification report:\n",
      "              precision    recall  f1-score   support\n",
      "\n",
      "         0.0       0.51      1.00      0.67        44\n",
      "         1.0       1.00      0.02      0.04        44\n",
      "\n",
      "    accuracy                           0.51        88\n",
      "   macro avg       0.75      0.51      0.36        88\n",
      "weighted avg       0.75      0.51      0.36        88\n",
      "\n",
      "\n",
      "Sample 2\n",
      "Accuracy: 0.7386363636363636\n",
      "AUC: 0.8243801652892563\n",
      "Confusion matrix:\n",
      "[[36  8]\n",
      " [15 29]]\n",
      "Classification report:\n",
      "              precision    recall  f1-score   support\n",
      "\n",
      "         0.0       0.71      0.82      0.76        44\n",
      "         1.0       0.78      0.66      0.72        44\n",
      "\n",
      "    accuracy                           0.74        88\n",
      "   macro avg       0.74      0.74      0.74        88\n",
      "weighted avg       0.74      0.74      0.74        88\n",
      "\n",
      "\n",
      "Sample 3\n",
      "Accuracy: 0.5227272727272727\n",
      "AUC: 0.49767561983471076\n",
      "Confusion matrix:\n",
      "[[32 12]\n",
      " [30 14]]\n",
      "Classification report:\n",
      "              precision    recall  f1-score   support\n",
      "\n",
      "         0.0       0.52      0.73      0.60        44\n",
      "         1.0       0.54      0.32      0.40        44\n",
      "\n",
      "    accuracy                           0.52        88\n",
      "   macro avg       0.53      0.52      0.50        88\n",
      "weighted avg       0.53      0.52      0.50        88\n",
      "\n",
      "\n",
      "Sample 4\n",
      "Accuracy: 0.875\n",
      "AUC: 0.9204545454545455\n",
      "Confusion matrix:\n",
      "[[38  6]\n",
      " [ 5 39]]\n",
      "Classification report:\n",
      "              precision    recall  f1-score   support\n",
      "\n",
      "         0.0       0.88      0.86      0.87        44\n",
      "         1.0       0.87      0.89      0.88        44\n",
      "\n",
      "    accuracy                           0.88        88\n",
      "   macro avg       0.88      0.88      0.87        88\n",
      "weighted avg       0.88      0.88      0.87        88\n",
      "\n",
      "\n",
      "Sample 5\n",
      "Accuracy: 0.5909090909090909\n",
      "AUC: 0.5955578512396694\n",
      "Confusion matrix:\n",
      "[[23 21]\n",
      " [15 29]]\n",
      "Classification report:\n",
      "              precision    recall  f1-score   support\n",
      "\n",
      "         0.0       0.61      0.52      0.56        44\n",
      "         1.0       0.58      0.66      0.62        44\n",
      "\n",
      "    accuracy                           0.59        88\n",
      "   macro avg       0.59      0.59      0.59        88\n",
      "weighted avg       0.59      0.59      0.59        88\n",
      "\n",
      "\n"
     ]
    }
   ],
   "source": [
    "fprdict = dict()\n",
    "tprdict = dict()\n",
    "roc_aucdict = dict()\n",
    "df2save = pd.DataFrame()\n",
    "\n",
    "for i in range(len(X)):\n",
    "    Xsub = X[i]\n",
    "    Xsub = Xsub.reshape(-1, 1)\n",
    "    model = LogisticRegression().fit(Xsub, y)\n",
    "    fpr, tpr, _ = metrics.roc_curve(y, model.predict_proba(Xsub)[:,1])\n",
    "    roc_auc = metrics.roc_auc_score(y, model.predict_proba(Xsub)[:,1])\n",
    "    fprdict[labels[i]] = fpr\n",
    "    tprdict[labels[i]] = tpr\n",
    "    roc_aucdict[labels[i]] = roc_auc\n",
    "    \n",
    "    print('Sample', (i+1))\n",
    "    print(\"Accuracy:\", metrics.accuracy_score(y, model.predict(Xsub)))\n",
    "    print(\"AUC:\", roc_auc)\n",
    "    print(\"Confusion matrix:\")\n",
    "    print(metrics.confusion_matrix(y, model.predict(Xsub)))\n",
    "    print(\"Classification report:\")\n",
    "    print(metrics.classification_report(y, model.predict(Xsub)))\n",
    "    print()\n",
    "    \n",
    "df2save = (pd.Series(fprdict).to_frame('fpr').join(pd.Series(tprdict).to_frame('tpr').join(pd.Series(roc_aucdict).to_frame('AUC'), how='outer')))\n",
    "df2save.to_csv('output\\ROCdata.txt', sep='\\t', header=True, index=True)"
   ]
  },
  {
   "cell_type": "markdown",
   "metadata": {},
   "source": [
    "Time to visualize the results generated above"
   ]
  },
  {
   "cell_type": "code",
   "execution_count": 59,
   "metadata": {},
   "outputs": [
    {
     "data": {
      "image/png": "[encoded data removed]",
      "text/plain": [
       "<Figure size 432x288 with 1 Axes>"
      ]
     },
     "metadata": {
      "needs_background": "light"
     },
     "output_type": "display_data"
    }
   ],
   "source": [
    "plt.figure()\n",
    "for iter in fprdict:\n",
    "    fprprint = fprdict[iter]\n",
    "    tprprint = tprdict[iter]\n",
    "    roc_aucprint = roc_aucdict[iter]\n",
    "    plt.plot(fprprint, tprprint, label = (str(iter) + \" ROC curve (area = %0.2f)\" % roc_aucprint))\n",
    "plt.plot([0, 1], [0, 1], 'k--')\n",
    "plt.xlim([0.0, 1.0])\n",
    "plt.ylim([0.0, 1.05])\n",
    "plt.title(\"ROC curve\")\n",
    "plt.xlabel(\"False positive rate\")\n",
    "plt.ylabel(\"True positive rate\")\n",
    "plt.legend(loc='best')\n",
    "plt.show()"
   ]
  }
 ],
 "metadata": {
  "kernelspec": {
   "display_name": "Python 3",
   "language": "python",
   "name": "python3"
  },
  "language_info": {
   "codemirror_mode": {
    "name": "ipython",
    "version": 3
   },
   "file_extension": ".py",
   "mimetype": "text/x-python",
   "name": "python",
   "nbconvert_exporter": "python",
   "pygments_lexer": "ipython3",
   "version": "3.8.5"
  }
 },
 "nbformat": 4,
 "nbformat_minor": 4
}
