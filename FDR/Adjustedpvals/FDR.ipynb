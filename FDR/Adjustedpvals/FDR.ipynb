{
 "cells": [
  {
   "cell_type": "code",
   "execution_count": 1,
   "metadata": {},
   "outputs": [],
   "source": [
    "import os\n",
    "import pandas as pd\n",
    "from scipy.stats import mannwhitneyu\n",
    "from statsmodels.stats.multitest import multipletests\n",
    "import matplotlib.pyplot as plt\n",
    "import seaborn as sns"
   ]
  },
  {
   "cell_type": "code",
   "execution_count": 2,
   "metadata": {},
   "outputs": [],
   "source": [
    "cwd = os.getcwd()\n",
    "path = cwd + \"\\output\"\n",
    "if not os.path.exists(path):\n",
    "    os.mkdir(path)\n",
    "\n",
    "df = pd.read_csv('taxa4FDR.txt', delimiter = \"\\t\")\n",
    "y = list(df.iloc[:, 0])\n",
    "df.drop([df.columns[0]], axis=1, inplace=True)\n",
    "df = df.transpose()\n",
    "df = df.loc[(df!=0).any(axis=1)]\n",
    "groupsize = (len(y)/2)"
   ]
  },
  {
   "cell_type": "code",
   "execution_count": 3,
   "metadata": {},
   "outputs": [
    {
     "ename": "TypeError",
     "evalue": "mannwhitneyu() got an unexpected keyword argument 'method'",
     "output_type": "error",
     "traceback": [
      "\u001b[1;31m---------------------------------------------------------------------------\u001b[0m",
      "\u001b[1;31mTypeError\u001b[0m                                 Traceback (most recent call last)",
      "\u001b[1;32m<ipython-input-3-1c8c7a6caf95>\u001b[0m in \u001b[0;36m<module>\u001b[1;34m\u001b[0m\n\u001b[0;32m     12\u001b[0m         \u001b[0mcases\u001b[0m\u001b[1;33m.\u001b[0m\u001b[0mappend\u001b[0m\u001b[1;33m(\u001b[0m\u001b[0mrow\u001b[0m\u001b[1;33m[\u001b[0m\u001b[0mi\u001b[0m\u001b[1;33m]\u001b[0m\u001b[1;33m)\u001b[0m\u001b[1;33m\u001b[0m\u001b[1;33m\u001b[0m\u001b[0m\n\u001b[0;32m     13\u001b[0m         \u001b[0mcontrols\u001b[0m\u001b[1;33m.\u001b[0m\u001b[0mappend\u001b[0m\u001b[1;33m(\u001b[0m\u001b[0mrow\u001b[0m\u001b[1;33m[\u001b[0m\u001b[0mi\u001b[0m\u001b[1;33m+\u001b[0m\u001b[0mgroupsize\u001b[0m\u001b[1;33m]\u001b[0m\u001b[1;33m)\u001b[0m\u001b[1;33m\u001b[0m\u001b[1;33m\u001b[0m\u001b[0m\n\u001b[1;32m---> 14\u001b[1;33m     \u001b[0mMWUstat\u001b[0m\u001b[1;33m,\u001b[0m \u001b[0mMWUpval\u001b[0m \u001b[1;33m=\u001b[0m \u001b[0mmannwhitneyu\u001b[0m\u001b[1;33m(\u001b[0m\u001b[0mcases\u001b[0m\u001b[1;33m,\u001b[0m \u001b[0mcontrols\u001b[0m\u001b[1;33m,\u001b[0m \u001b[0mmethod\u001b[0m\u001b[1;33m=\u001b[0m\u001b[1;34m\"exact\"\u001b[0m\u001b[1;33m)\u001b[0m\u001b[1;33m\u001b[0m\u001b[1;33m\u001b[0m\u001b[0m\n\u001b[0m\u001b[0;32m     15\u001b[0m     \u001b[0mindexlist\u001b[0m\u001b[1;33m.\u001b[0m\u001b[0mappend\u001b[0m\u001b[1;33m(\u001b[0m\u001b[0mindex\u001b[0m\u001b[1;33m)\u001b[0m\u001b[1;33m\u001b[0m\u001b[1;33m\u001b[0m\u001b[0m\n\u001b[0;32m     16\u001b[0m     \u001b[0mMWUstatlist\u001b[0m\u001b[1;33m.\u001b[0m\u001b[0mappend\u001b[0m\u001b[1;33m(\u001b[0m\u001b[0mMWUstat\u001b[0m\u001b[1;33m)\u001b[0m\u001b[1;33m\u001b[0m\u001b[1;33m\u001b[0m\u001b[0m\n",
      "\u001b[1;31mTypeError\u001b[0m: mannwhitneyu() got an unexpected keyword argument 'method'"
     ]
    }
   ],
   "source": [
    "# First calcuate p-value from Mann-Whitney U rank test on two independent samples\n",
    "dfMWUdata = pd.DataFrame()\n",
    "indexlist = []\n",
    "MWUstatlist = []\n",
    "MWUpvallist = []\n",
    "\n",
    "for index, row in df.iterrows():\n",
    "    row = pd.Series(row)\n",
    "    controls = []\n",
    "    cases = []\n",
    "    for i in range(int(groupsize)):\n",
    "        cases.append(row[i])\n",
    "        controls.append(row[i+groupsize])\n",
    "    MWUstat, MWUpval = mannwhitneyu(cases, controls, method=\"exact\")\n",
    "    indexlist.append(index)\n",
    "    MWUstatlist.append(MWUstat)\n",
    "    MWUpvallist.append(MWUpval)\n",
    "    print(index, 'with a p-value of', MWUpval)\n",
    "\n",
    "dfMWUdata['Index'] = indexlist\n",
    "dfMWUdata['MWUstat'] = MWUstatlist\n",
    "dfMWUdata['MWUpval'] = MWUpvallist"
   ]
  },
  {
   "cell_type": "code",
   "execution_count": 4,
   "metadata": {},
   "outputs": [
    {
     "name": "stdout",
     "output_type": "stream",
     "text": [
      "\n",
      "The corrected alpha is 9.891196834817013e-06\n"
     ]
    }
   ],
   "source": [
    "# Adjust p-values - for method options see https://www.statsmodels.org/dev/generated/statsmodels.stats.multitest.multipletests.html\n",
    "reject, correctedpvals, _, correctedalpha = multipletests(MWUpvallist, alpha=0.05, method='bonferroni', is_sorted=False, returnsorted=False)\n",
    "print()\n",
    "#print(np.sum(reject))\n",
    "print('The corrected alpha is ' + str(correctedalpha))\n",
    "dfMWUdata['Correctedpvals'] = correctedpvals\n",
    "dfMWUdata.to_csv('output\\dfMWUdata.txt', sep='\\t', index=False)"
   ]
  },
  {
   "cell_type": "code",
   "execution_count": 5,
   "metadata": {},
   "outputs": [
    {
     "data": {
      "image/png": "[encoded data removed]",
      "text/plain": [
       "<Figure size 432x288 with 1 Axes>"
      ]
     },
     "metadata": {
      "needs_background": "light"
     },
     "output_type": "display_data"
    }
   ],
   "source": [
    "sns.kdeplot(MWUpvallist, color=\"red\", shade=True, label='raw')\n",
    "ax = sns.kdeplot(correctedpvals, color=\"green\", shade=True, label='adujusted')\n",
    "ax.set(xlim=(0, 1))\n",
    "plt.title('Change in p-value Distribution')\n",
    "plt.xlabel('p-values')\n",
    "plt.ylabel('Density')\n",
    "plt.legend(loc = 'best')\n",
    "plt.show()"
   ]
  }
 ],
 "metadata": {
  "kernelspec": {
   "display_name": "Python 3",
   "language": "python",
   "name": "python3"
  },
  "language_info": {
   "codemirror_mode": {
    "name": "ipython",
    "version": 3
   },
   "file_extension": ".py",
   "mimetype": "text/x-python",
   "name": "python",
   "nbconvert_exporter": "python",
   "pygments_lexer": "ipython3",
   "version": "3.8.5"
  }
 },
 "nbformat": 4,
 "nbformat_minor": 5
}
